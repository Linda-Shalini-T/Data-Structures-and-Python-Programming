{
 "cells": [
  {
   "cell_type": "code",
   "execution_count": 1,
   "id": "6e837cfc-3722-41d1-8e96-4a03b918bf8a",
   "metadata": {},
   "outputs": [
    {
     "name": "stdin",
     "output_type": "stream",
     "text": [
      "Enter the Number of elements for Dictionary-1:  3\n"
     ]
    },
    {
     "name": "stdout",
     "output_type": "stream",
     "text": [
      "Enter Values for Keys\n"
     ]
    },
    {
     "name": "stdin",
     "output_type": "stream",
     "text": [
      "Enter Key 1 =  2\n",
      "Enter Key 2 =  4\n",
      "Enter Key 3 =  3\n"
     ]
    },
    {
     "name": "stdout",
     "output_type": "stream",
     "text": [
      "Enter Values for Values\n"
     ]
    },
    {
     "name": "stdin",
     "output_type": "stream",
     "text": [
      "Enter Value 1 =  2\n",
      "Enter Value 2 =  5\n",
      "Enter Value 3 =  6\n"
     ]
    },
    {
     "name": "stdout",
     "output_type": "stream",
     "text": [
      "Dictionary_1 Items: {'2': '2', '4': '5', '3': '6'}\n"
     ]
    },
    {
     "name": "stdin",
     "output_type": "stream",
     "text": [
      "Enter the Number of elements for Dictionary-2:  1\n"
     ]
    },
    {
     "name": "stdout",
     "output_type": "stream",
     "text": [
      "Enter Values for Keys\n"
     ]
    },
    {
     "name": "stdin",
     "output_type": "stream",
     "text": [
      "Enter Key 1 =  3\n"
     ]
    },
    {
     "name": "stdout",
     "output_type": "stream",
     "text": [
      "Enter Values for Values\n"
     ]
    },
    {
     "name": "stdin",
     "output_type": "stream",
     "text": [
      "Enter Value 1 =  4\n"
     ]
    },
    {
     "name": "stdout",
     "output_type": "stream",
     "text": [
      "Dictionary_2 Items: {'3': '4'}\n",
      "Common keys from dictionary 1 and dictionary 2: {'3'}\n"
     ]
    }
   ],
   "source": [
    "# Input and creation of Dictionary-1\n",
    "keys1 = [] \n",
    "vals1 = [] \n",
    "num1 = int(input(\"Enter the Number of elements for Dictionary-1: \")) \n",
    "\n",
    "print(\"Enter Values for Keys\")\n",
    "for i in range(num1): \n",
    "    x = input(f\"Enter Key {i + 1} = \")  \n",
    "    keys1.append(x) \n",
    "\n",
    "print(\"Enter Values for Values\")\n",
    "for i in range(num1): \n",
    "    x = input(f\"Enter Value {i + 1} = \")  \n",
    "    vals1.append(x) \n",
    "\n",
    "dict1 = dict(zip(keys1, vals1)) \n",
    "print(\"Dictionary_1 Items:\", dict1) \n",
    "set1 = set(dict1.keys()) \n",
    "\n",
    "# Input and creation of Dictionary-2\n",
    "keys2 = [] \n",
    "vals2 = [] \n",
    "num2 = int(input(\"Enter the Number of elements for Dictionary-2: \")) \n",
    "\n",
    "print(\"Enter Values for Keys\")\n",
    "for i in range(num2): \n",
    "    y = input(f\"Enter Key {i + 1} = \")  \n",
    "    keys2.append(y) \n",
    "\n",
    "print(\"Enter Values for Values\")\n",
    "for i in range(num2): \n",
    "    y = input(f\"Enter Value {i + 1} = \")  \n",
    "    vals2.append(y) \n",
    "\n",
    "dict2 = dict(zip(keys2, vals2)) \n",
    "print(\"Dictionary_2 Items:\", dict2) \n",
    "set2 = set(dict2.keys()) \n",
    "\n",
    "# Find common keys\n",
    "common_items = set1 & set2 \n",
    "print(\"Common keys from dictionary 1 and dictionary 2:\", common_items)\n"
   ]
  },
  {
   "cell_type": "code",
   "execution_count": null,
   "id": "af5f09d5-d6b3-4345-912b-c1f3c8b403e1",
   "metadata": {},
   "outputs": [],
   "source": []
  }
 ],
 "metadata": {
  "kernelspec": {
   "display_name": "Python 3 (ipykernel)",
   "language": "python",
   "name": "python3"
  },
  "language_info": {
   "codemirror_mode": {
    "name": "ipython",
    "version": 3
   },
   "file_extension": ".py",
   "mimetype": "text/x-python",
   "name": "python",
   "nbconvert_exporter": "python",
   "pygments_lexer": "ipython3",
   "version": "3.12.4"
  }
 },
 "nbformat": 4,
 "nbformat_minor": 5
}
