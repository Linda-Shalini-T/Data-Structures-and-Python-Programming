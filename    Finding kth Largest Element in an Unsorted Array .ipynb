{
 "cells": [
  {
   "cell_type": "code",
   "execution_count": 9,
   "id": "84a3126d-4617-4d4a-ba6b-39f90f5c97d4",
   "metadata": {},
   "outputs": [
    {
     "name": "stdout",
     "output_type": "stream",
     "text": [
      "Third largest element: 41\n",
      "\n",
      "Second largest element: 50\n",
      "\n",
      "Fifth largest element: 12\n"
     ]
    }
   ],
   "source": [
    "import heapq\n",
    "\n",
    "class Solution(object): \n",
    "    def find_Kth_Largest(self, nums, k):\n",
    "        \"\"\"\n",
    "        :type nums: List[int]\n",
    "        :type k: int\n",
    "        :rtype: int\n",
    "        \"\"\"\n",
    "        h = [] \n",
    "        for e in nums: \n",
    "            heapq.heappush(h, (-e, e))  # max-heap simulation using negative numbers\n",
    "        for i in range(k): \n",
    "            w, e = heapq.heappop(h) \n",
    "            if i == k - 1: \n",
    "                return e \n",
    "\n",
    "# Test the solution\n",
    "arr_nums = [12, 14, 9, 50, 61, 41] \n",
    "s = Solution()\n",
    "\n",
    "result = s.find_Kth_Largest(arr_nums, 3)\n",
    "print(\"Third largest element:\", result) \n",
    "\n",
    "result = s.find_Kth_Largest(arr_nums, 2) \n",
    "print(\"\\nSecond largest element:\", result) \n",
    "\n",
    "result = s.find_Kth_Largest(arr_nums, 5) \n",
    "print(\"\\nFifth largest element:\", result)\n"
   ]
  },
  {
   "cell_type": "code",
   "execution_count": null,
   "id": "fb9fa52a-ec82-4dbc-b17e-ce3b795231b4",
   "metadata": {},
   "outputs": [],
   "source": []
  }
 ],
 "metadata": {
  "kernelspec": {
   "display_name": "Python 3 (ipykernel)",
   "language": "python",
   "name": "python3"
  },
  "language_info": {
   "codemirror_mode": {
    "name": "ipython",
    "version": 3
   },
   "file_extension": ".py",
   "mimetype": "text/x-python",
   "name": "python",
   "nbconvert_exporter": "python",
   "pygments_lexer": "ipython3",
   "version": "3.12.4"
  }
 },
 "nbformat": 4,
 "nbformat_minor": 5
}
