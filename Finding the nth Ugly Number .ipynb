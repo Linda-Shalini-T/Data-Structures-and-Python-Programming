{
 "cells": [
  {
   "cell_type": "code",
   "execution_count": null,
   "id": "413afd07-fddd-4a8e-98a9-307c8ccb174d",
   "metadata": {},
   "outputs": [],
   "source": [
    "import heapq \n",
    "class Solution(object): \n",
    "    def nth_Ugly_Number(self, n): \n",
    "        ugly_num = 0 \n",
    "        heap = [] \n",
    "        heapq.heappush(heap, 1) \n",
    "        for _ in range(n): \n",
    "            ugly_num = heapq.heappop(heap) \n",
    "            if ugly_num % 2 == 0: \n",
    "heapq.heappush(heap, ugly_num * 2) \n",
    "elif ugly_num % 3 == 0: \n",
    "heapq.heappush(heap, ugly_num * 3) "
   ]
  }
 ],
 "metadata": {
  "kernelspec": {
   "display_name": "Python 3 (ipykernel)",
   "language": "python",
   "name": "python3"
  },
  "language_info": {
   "codemirror_mode": {
    "name": "ipython",
    "version": 3
   },
   "file_extension": ".py",
   "mimetype": "text/x-python",
   "name": "python",
   "nbconvert_exporter": "python",
   "pygments_lexer": "ipython3",
   "version": "3.12.4"
  }
 },
 "nbformat": 4,
 "nbformat_minor": 5
}
