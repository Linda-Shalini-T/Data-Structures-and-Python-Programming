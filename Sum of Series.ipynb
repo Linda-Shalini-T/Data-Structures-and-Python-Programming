{
 "cells": [
  {
   "cell_type": "code",
   "execution_count": 1,
   "id": "95f7d949-226a-4d8b-bc0a-10ce4025a6e1",
   "metadata": {},
   "outputs": [
    {
     "name": "stdin",
     "output_type": "stream",
     "text": [
      "Please Enter any Positive Number  :  5\n"
     ]
    },
    {
     "name": "stdout",
     "output_type": "stream",
     "text": [
      "The Sum of Series upto 5  = 55\n"
     ]
    }
   ],
   "source": [
    "def sum_of_square_series(number): \n",
    "    if(number == 0): \n",
    "        return 0 \n",
    "    else: \n",
    "        return (number * number) + sum_of_square_series(number - 1) \n",
    "num = int(input(\"Please Enter any Positive Number  : \")) \n",
    "total = sum_of_square_series(num) \n",
    "print(\"The Sum of Series upto {0}  = {1}\".format(num, total))"
   ]
  },
  {
   "cell_type": "code",
   "execution_count": null,
   "id": "e9b1819d-65e1-42e6-b6aa-77b9f90f432f",
   "metadata": {},
   "outputs": [],
   "source": []
  }
 ],
 "metadata": {
  "kernelspec": {
   "display_name": "Python 3 (ipykernel)",
   "language": "python",
   "name": "python3"
  },
  "language_info": {
   "codemirror_mode": {
    "name": "ipython",
    "version": 3
   },
   "file_extension": ".py",
   "mimetype": "text/x-python",
   "name": "python",
   "nbconvert_exporter": "python",
   "pygments_lexer": "ipython3",
   "version": "3.12.4"
  }
 },
 "nbformat": 4,
 "nbformat_minor": 5
}
