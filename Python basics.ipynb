{
 "cells": [
  {
   "cell_type": "code",
   "execution_count": 1,
   "id": "b8292140-9747-490a-8f04-ace07f57d85e",
   "metadata": {},
   "outputs": [
    {
     "name": "stdin",
     "output_type": "stream",
     "text": [
      "Enter first number:  3\n",
      "Enter second number:  4\n"
     ]
    },
    {
     "name": "stdout",
     "output_type": "stream",
     "text": [
      "Addition: 7\n",
      "Subtraction: -1\n",
      "Multiplication: 12\n",
      "Division: 0.75\n",
      "Modulus: 3\n"
     ]
    }
   ],
   "source": [
    "a = int(input(\"Enter first number: \")) \n",
    "b = int(input(\"Enter second number: \")) \n",
    "print(f\"Addition: {a + b}\") \n",
    "print(f\"Subtraction: {a - b}\") \n",
    "print(f\"Multiplication: {a * b}\") \n",
    "print(f\"Division: {a / b}\") \n",
    "print(f\"Modulus: {a % b}\")"
   ]
  },
  {
   "cell_type": "code",
   "execution_count": 3,
   "id": "6fd6c9f8-3bbe-45d4-8c86-100349b1efce",
   "metadata": {},
   "outputs": [
    {
     "name": "stdin",
     "output_type": "stream",
     "text": [
      "Enter first number:  5\n",
      "Enter second number:  7\n"
     ]
    },
    {
     "name": "stdout",
     "output_type": "stream",
     "text": [
      "5 == 7: False\n",
      "5 != 7: True\n",
      "5 > 7: False\n",
      "5 < 7: True\n",
      "5 >= 7: False\n",
      "5 <= 7: True\n"
     ]
    }
   ],
   "source": [
    "a = int(input(\"Enter first number: \")) \n",
    "b = int(input(\"Enter second number: \")) \n",
    "print(f\"{a} == {b}: {a == b}\") \n",
    "print(f\"{a} != {b}: {a != b}\") \n",
    "print(f\"{a} > {b}: {a > b}\") \n",
    "print(f\"{a} < {b}: {a < b}\") \n",
    "print(f\"{a} >= {b}: {a >= b}\") \n",
    "print(f\"{a} <= {b}: {a <= b}\")"
   ]
  },
  {
   "cell_type": "code",
   "execution_count": 5,
   "id": "ae71d151-9e87-4629-858c-79d8715dc4b6",
   "metadata": {},
   "outputs": [
    {
     "name": "stdin",
     "output_type": "stream",
     "text": [
      "Enter first boolean value (0 or 1):  2\n",
      "Enter second boolean value (0 or 1):  9\n"
     ]
    },
    {
     "name": "stdout",
     "output_type": "stream",
     "text": [
      "True and True: True\n",
      "True or True: True\n",
      "not True: False\n"
     ]
    }
   ],
   "source": [
    "a = bool(int(input(\"Enter first boolean value (0 or 1): \"))) \n",
    "b = bool(int(input(\"Enter second boolean value (0 or 1): \"))) \n",
    "print(f\"{a} and {b}: {a and b}\") \n",
    "print(f\"{a} or {b}: {a or b}\") \n",
    "print(f\"not {a}: {not a}\")"
   ]
  },
  {
   "cell_type": "code",
   "execution_count": 9,
   "id": "15fecf57-627b-452b-ba9e-5abc75511406",
   "metadata": {},
   "outputs": [
    {
     "name": "stdin",
     "output_type": "stream",
     "text": [
      "Enter a number: -3\n"
     ]
    },
    {
     "name": "stdout",
     "output_type": "stream",
     "text": [
      "The number is negative\n"
     ]
    }
   ],
   "source": [
    "num = int(input(\"Enter a number:\")) \n",
    "if num > 0: \n",
    "    print(\"The number is positive\")  \n",
    "elif num == 0: \n",
    "    print(\"The number is zero\") \n",
    "else: \n",
    "    print(\"The number is negative\")"
   ]
  },
  {
   "cell_type": "code",
   "execution_count": 13,
   "id": "346e0062-54a8-4ee3-8e15-4ea5a6672f13",
   "metadata": {},
   "outputs": [
    {
     "name": "stdin",
     "output_type": "stream",
     "text": [
      "Enter a number:  4\n"
     ]
    },
    {
     "name": "stdout",
     "output_type": "stream",
     "text": [
      "1\n",
      "2\n",
      "3\n",
      "4\n"
     ]
    }
   ],
   "source": [
    "n = int(input(\"Enter a number: \")) \n",
    "for i in range(1, n + 1): \n",
    "    print(i) "
   ]
  },
  {
   "cell_type": "code",
   "execution_count": null,
   "id": "9ded7d9f-dd6a-4fbb-8c79-1ccf4612646c",
   "metadata": {},
   "outputs": [],
   "source": []
  }
 ],
 "metadata": {
  "kernelspec": {
   "display_name": "Python 3 (ipykernel)",
   "language": "python",
   "name": "python3"
  },
  "language_info": {
   "codemirror_mode": {
    "name": "ipython",
    "version": 3
   },
   "file_extension": ".py",
   "mimetype": "text/x-python",
   "name": "python",
   "nbconvert_exporter": "python",
   "pygments_lexer": "ipython3",
   "version": "3.12.4"
  }
 },
 "nbformat": 4,
 "nbformat_minor": 5
}
