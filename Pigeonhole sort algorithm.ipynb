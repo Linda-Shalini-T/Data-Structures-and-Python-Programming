{
 "cells": [
  {
   "cell_type": "code",
   "execution_count": 3,
   "id": "9af38e67-866b-4b05-894b-7b8ab5335519",
   "metadata": {},
   "outputs": [
    {
     "name": "stdout",
     "output_type": "stream",
     "text": [
      "Sorted order is :  2 3 4 6 7 8 8 "
     ]
    }
   ],
   "source": [
    "def pigeonhole_sort(a):\n",
    "    my_min = min(a)  \n",
    "    my_max = max(a)  \n",
    "    size = my_max - my_min + 1 \n",
    "    holes = [0] * size   \n",
    "    for x in a:  \n",
    "        assert type(x) is int, \"integers only please\" \n",
    "        holes[x - my_min] += 1 \n",
    "    i = 0 \n",
    "    for count in range(size):  \n",
    "        while holes[count] > 0:  \n",
    "            holes[count] -= 1 \n",
    "            a[i] = count + my_min  \n",
    "            i += 1   \n",
    "a = [8, 3, 2, 7, 4, 6, 8]  \n",
    "print(\"Sorted order is : \", end =\" \")  \n",
    "pigeonhole_sort(a)  \n",
    "for i in range(0, len(a)):  \n",
    "    print(a[i], end =\" \")"
   ]
  }
 ],
 "metadata": {
  "kernelspec": {
   "display_name": "Python 3 (ipykernel)",
   "language": "python",
   "name": "python3"
  },
  "language_info": {
   "codemirror_mode": {
    "name": "ipython",
    "version": 3
   },
   "file_extension": ".py",
   "mimetype": "text/x-python",
   "name": "python",
   "nbconvert_exporter": "python",
   "pygments_lexer": "ipython3",
   "version": "3.12.4"
  }
 },
 "nbformat": 4,
 "nbformat_minor": 5
}
