{
 "cells": [
  {
   "cell_type": "code",
   "execution_count": 1,
   "id": "e05bd8bd-71b3-4b69-93d9-77b37d7150c0",
   "metadata": {},
   "outputs": [
    {
     "name": "stdout",
     "output_type": "stream",
     "text": [
      "\n",
      "                             1                              \n",
      "              2                             3               \n",
      "       4              7              9              10      \n",
      "   8      16     14  \n",
      "------------------------------------------------------------\n"
     ]
    }
   ],
   "source": [
    "import math \n",
    "from io import StringIO \n",
    "import heapq\n",
    "\n",
    "def show_tree(tree, total_width=60, fill=' '): \n",
    "    \"\"\"\n",
    "    Pretty-print a heap tree.\n",
    "    total_width depends on your input size.\n",
    "    \"\"\"\n",
    "    output = StringIO() \n",
    "    last_row = -1 \n",
    "    for i, n in enumerate(tree): \n",
    "        if i: \n",
    "            row = int(math.floor(math.log(i+1, 2))) \n",
    "        else: \n",
    "            row = 0 \n",
    "        if row != last_row: \n",
    "            output.write('\\n') \n",
    "        columns = 2 ** row \n",
    "        col_width = int(math.floor((total_width * 1.0) / columns)) \n",
    "        output.write(str(n).center(col_width, fill)) \n",
    "        last_row = row \n",
    "    print(output.getvalue()) \n",
    "    print('-' * total_width) \n",
    "    return \n",
    "\n",
    "# Test the heap and show the tree\n",
    "heap = [] \n",
    "heapq.heappush(heap, 1) \n",
    "heapq.heappush(heap, 2) \n",
    "heapq.heappush(heap, 3) \n",
    "heapq.heappush(heap, 4) \n",
    "heapq.heappush(heap, 7) \n",
    "heapq.heappush(heap, 9) \n",
    "heapq.heappush(heap, 10) \n",
    "heapq.heappush(heap, 8) \n",
    "heapq.heappush(heap, 16) \n",
    "heapq.heappush(heap, 14) \n",
    "\n",
    "show_tree(heap)\n"
   ]
  },
  {
   "cell_type": "code",
   "execution_count": null,
   "id": "a5386df0-c537-48cf-8d82-1c7825790f2b",
   "metadata": {},
   "outputs": [],
   "source": []
  }
 ],
 "metadata": {
  "kernelspec": {
   "display_name": "Python 3 (ipykernel)",
   "language": "python",
   "name": "python3"
  },
  "language_info": {
   "codemirror_mode": {
    "name": "ipython",
    "version": 3
   },
   "file_extension": ".py",
   "mimetype": "text/x-python",
   "name": "python",
   "nbconvert_exporter": "python",
   "pygments_lexer": "ipython3",
   "version": "3.12.4"
  }
 },
 "nbformat": 4,
 "nbformat_minor": 5
}
