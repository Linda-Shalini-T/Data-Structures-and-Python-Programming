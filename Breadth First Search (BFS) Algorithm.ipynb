{
 "cells": [
  {
   "cell_type": "code",
   "execution_count": 5,
   "id": "4b79f742-812d-4513-93db-e9c2409ce75f",
   "metadata": {},
   "outputs": [
    {
     "ename": "SyntaxError",
     "evalue": "invalid character '”' (U+201D) (3743330165.py, line 7)",
     "output_type": "error",
     "traceback": [
      "\u001b[1;36m  Cell \u001b[1;32mIn[5], line 7\u001b[1;36m\u001b[0m\n\u001b[1;33m    print(str(vertex)+” ”,end=” ”)\u001b[0m\n\u001b[1;37m                      ^\u001b[0m\n\u001b[1;31mSyntaxError\u001b[0m\u001b[1;31m:\u001b[0m invalid character '”' (U+201D)\n"
     ]
    }
   ],
   "source": [
    "import collections \n",
    "def bfs(graph, root): \n",
    "    visited, queue = set(), collections.deque([root])  \n",
    "    visited.add(root)  \n",
    "    while queue: \n",
    "        vertex=queue.popleft() \n",
    "        print(str(vertex)+” ”,end=” ”) \n",
    "        for neighbour in graph[vertex]:  \n",
    "            if neighbour not in visited:  \n",
    "                visited.add(neighbour)  \n",
    "                queue.append(neighbour)\n",
    "if __name__ == '__main__':  \n",
    "graph = {0: [1, 2], 1: [2], 2: [3], 3: [1, 2]}  \n",
    "print(\"Following is Breadth First Traversal: \")  \n",
    "bfs(graph, 0)"
   ]
  },
  {
   "cell_type": "code",
   "execution_count": null,
   "id": "fb1589bd-30ab-4130-a77c-fdb6184b38a3",
   "metadata": {},
   "outputs": [],
   "source": []
  }
 ],
 "metadata": {
  "kernelspec": {
   "display_name": "Python 3 (ipykernel)",
   "language": "python",
   "name": "python3"
  },
  "language_info": {
   "codemirror_mode": {
    "name": "ipython",
    "version": 3
   },
   "file_extension": ".py",
   "mimetype": "text/x-python",
   "name": "python",
   "nbconvert_exporter": "python",
   "pygments_lexer": "ipython3",
   "version": "3.12.4"
  }
 },
 "nbformat": 4,
 "nbformat_minor": 5
}
